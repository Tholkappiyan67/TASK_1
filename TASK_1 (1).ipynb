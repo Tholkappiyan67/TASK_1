{
 "cells": [
  {
   "cell_type": "code",
   "execution_count": 30,
   "id": "14b649f9-7c85-4bf2-8dd1-239cfc8fb5d0",
   "metadata": {},
   "outputs": [],
   "source": [
    "import pandas as pd\n",
    "import numpy as np\n",
    "from matplotlib import pyplot as plt"
   ]
  },
  {
   "cell_type": "code",
   "execution_count": 31,
   "id": "009707c5-68c1-425d-b4b0-0f452493ebe4",
   "metadata": {},
   "outputs": [
    {
     "name": "stdout",
     "output_type": "stream",
     "text": [
      "<class 'pandas.core.frame.DataFrame'>\n",
      "RangeIndex: 418 entries, 0 to 417\n",
      "Data columns (total 12 columns):\n",
      " #   Column       Non-Null Count  Dtype  \n",
      "---  ------       --------------  -----  \n",
      " 0   PassengerId  418 non-null    int64  \n",
      " 1   Survived     418 non-null    int64  \n",
      " 2   Pclass       418 non-null    int64  \n",
      " 3   Name         418 non-null    object \n",
      " 4   Sex          418 non-null    object \n",
      " 5   Age          332 non-null    float64\n",
      " 6   SibSp        418 non-null    int64  \n",
      " 7   Parch        418 non-null    int64  \n",
      " 8   Ticket       418 non-null    object \n",
      " 9   Fare         417 non-null    float64\n",
      " 10  Cabin        91 non-null     object \n",
      " 11  Embarked     418 non-null    object \n",
      "dtypes: float64(2), int64(5), object(5)\n",
      "memory usage: 39.3+ KB\n"
     ]
    },
    {
     "data": {
      "text/plain": [
       "(   PassengerId  Survived  Pclass  \\\n",
       " 0          892         0       3   \n",
       " 1          893         1       3   \n",
       " 2          894         0       2   \n",
       " 3          895         0       3   \n",
       " 4          896         1       3   \n",
       " \n",
       "                                            Name     Sex   Age  SibSp  Parch  \\\n",
       " 0                              Kelly, Mr. James    male  34.5      0      0   \n",
       " 1              Wilkes, Mrs. James (Ellen Needs)  female  47.0      1      0   \n",
       " 2                     Myles, Mr. Thomas Francis    male  62.0      0      0   \n",
       " 3                              Wirz, Mr. Albert    male  27.0      0      0   \n",
       " 4  Hirvonen, Mrs. Alexander (Helga E Lindqvist)  female  22.0      1      1   \n",
       " \n",
       "     Ticket     Fare Cabin Embarked  \n",
       " 0   330911   7.8292   NaN        Q  \n",
       " 1   363272   7.0000   NaN        S  \n",
       " 2   240276   9.6875   NaN        Q  \n",
       " 3   315154   8.6625   NaN        S  \n",
       " 4  3101298  12.2875   NaN        S  ,\n",
       " None,\n",
       "         PassengerId    Survived      Pclass              Name   Sex  \\\n",
       " count    418.000000  418.000000  418.000000               418   418   \n",
       " unique          NaN         NaN         NaN               418     2   \n",
       " top             NaN         NaN         NaN  Kelly, Mr. James  male   \n",
       " freq            NaN         NaN         NaN                 1   266   \n",
       " mean    1100.500000    0.363636    2.265550               NaN   NaN   \n",
       " std      120.810458    0.481622    0.841838               NaN   NaN   \n",
       " min      892.000000    0.000000    1.000000               NaN   NaN   \n",
       " 25%      996.250000    0.000000    1.000000               NaN   NaN   \n",
       " 50%     1100.500000    0.000000    3.000000               NaN   NaN   \n",
       " 75%     1204.750000    1.000000    3.000000               NaN   NaN   \n",
       " max     1309.000000    1.000000    3.000000               NaN   NaN   \n",
       " \n",
       "                Age       SibSp       Parch    Ticket        Fare  \\\n",
       " count   332.000000  418.000000  418.000000       418  417.000000   \n",
       " unique         NaN         NaN         NaN       363         NaN   \n",
       " top            NaN         NaN         NaN  PC 17608         NaN   \n",
       " freq           NaN         NaN         NaN         5         NaN   \n",
       " mean     30.272590    0.447368    0.392344       NaN   35.627188   \n",
       " std      14.181209    0.896760    0.981429       NaN   55.907576   \n",
       " min       0.170000    0.000000    0.000000       NaN    0.000000   \n",
       " 25%      21.000000    0.000000    0.000000       NaN    7.895800   \n",
       " 50%      27.000000    0.000000    0.000000       NaN   14.454200   \n",
       " 75%      39.000000    1.000000    0.000000       NaN   31.500000   \n",
       " max      76.000000    8.000000    9.000000       NaN  512.329200   \n",
       " \n",
       "                   Cabin Embarked  \n",
       " count                91      418  \n",
       " unique               76        3  \n",
       " top     B57 B59 B63 B66        S  \n",
       " freq                  3      270  \n",
       " mean                NaN      NaN  \n",
       " std                 NaN      NaN  \n",
       " min                 NaN      NaN  \n",
       " 25%                 NaN      NaN  \n",
       " 50%                 NaN      NaN  \n",
       " 75%                 NaN      NaN  \n",
       " max                 NaN      NaN  )"
      ]
     },
     "execution_count": 31,
     "metadata": {},
     "output_type": "execute_result"
    }
   ],
   "source": [
    "#import dataset\n",
    "df=pd.read_csv('tested.csv')\n",
    "df.head(), df.info(), df.describe(include='all')"
   ]
  },
  {
   "cell_type": "code",
   "execution_count": 32,
   "id": "0df7d43d-6952-4892-a640-71e661ef7f74",
   "metadata": {},
   "outputs": [
    {
     "name": "stdout",
     "output_type": "stream",
     "text": [
      "PassengerId      0\n",
      "Survived         0\n",
      "Pclass           0\n",
      "Name             0\n",
      "Sex              0\n",
      "Age             86\n",
      "SibSp            0\n",
      "Parch            0\n",
      "Ticket           0\n",
      "Fare             1\n",
      "Cabin          327\n",
      "Embarked         0\n",
      "dtype: int64\n"
     ]
    }
   ],
   "source": [
    "print(df.isnull().sum())"
   ]
  },
  {
   "cell_type": "code",
   "execution_count": 33,
   "id": "2ad5cc5e-9a01-46ea-86e3-59f6dc75e06b",
   "metadata": {},
   "outputs": [],
   "source": [
    "df['Age'] = df['Age'].fillna(df['Age'].median())"
   ]
  },
  {
   "cell_type": "code",
   "execution_count": 34,
   "id": "f0729e86-d7ac-4c69-9528-67df8b611ef7",
   "metadata": {},
   "outputs": [],
   "source": [
    "df['Fare'] = df['Fare'].fillna(df['Fare'].median())\n"
   ]
  },
  {
   "cell_type": "code",
   "execution_count": 35,
   "id": "66393fa2-4da0-485f-91a7-a5c7e2c1de6c",
   "metadata": {},
   "outputs": [],
   "source": [
    "df['HasCabin'] = df['Cabin'].notna().astype(int)\n",
    "df.drop(columns=['Cabin'], inplace=True)\n",
    "\n"
   ]
  },
  {
   "cell_type": "code",
   "execution_count": 36,
   "id": "b82043c8-2736-475d-92ec-0ce591b4fc27",
   "metadata": {},
   "outputs": [],
   "source": [
    "#create new feature\n",
    "df['FamilySize'] = df['SibSp'] + df['Parch'] + 1\n",
    "df['Title'] = df['Name'].str.extract(r',\\s*([^\\.]+)\\.', expand=False).str.strip()\n"
   ]
  },
  {
   "cell_type": "code",
   "execution_count": 37,
   "id": "be5ecccc-2741-4f99-a1fc-f65940a6f83f",
   "metadata": {},
   "outputs": [],
   "source": [
    "df['AgeBin'] = pd.cut(df['Age'], bins=[0, 12, 18, 60, 80], labels=['Child', 'Teenager', 'Adult', 'Senior'])\n",
    "df['FareBin'] = pd.qcut(df['Fare'], 4, labels=['Low', 'Medium', 'High', 'Very High'])\n",
    "\n"
   ]
  },
  {
   "cell_type": "code",
   "execution_count": 38,
   "id": "fbc7bf60-1e05-4b23-bd15-65c7d7ec4d4c",
   "metadata": {},
   "outputs": [],
   "source": [
    "df['Age'] = (df['Age'] - df['Age'].mean()) / df['Age'].std()\n",
    "df['Fare'] = (df['Fare'] - df['Fare'].mean()) / df['Fare'].std()"
   ]
  },
  {
   "cell_type": "code",
   "execution_count": 40,
   "id": "2c5b16e4-6a2e-421c-8987-ec8727f1a4a6",
   "metadata": {},
   "outputs": [
    {
     "name": "stdout",
     "output_type": "stream",
     "text": [
      "<class 'pandas.core.frame.DataFrame'>\n",
      "RangeIndex: 418 entries, 0 to 417\n",
      "Data columns (total 13 columns):\n",
      " #   Column      Non-Null Count  Dtype   \n",
      "---  ------      --------------  -----   \n",
      " 0   Survived    418 non-null    int64   \n",
      " 1   Pclass      418 non-null    int64   \n",
      " 2   Sex         418 non-null    object  \n",
      " 3   Age         418 non-null    float64 \n",
      " 4   SibSp       418 non-null    int64   \n",
      " 5   Parch       418 non-null    int64   \n",
      " 6   Fare        418 non-null    float64 \n",
      " 7   Embarked    418 non-null    object  \n",
      " 8   HasCabin    418 non-null    int32   \n",
      " 9   FamilySize  418 non-null    int64   \n",
      " 10  Title       418 non-null    object  \n",
      " 11  AgeBin      418 non-null    category\n",
      " 12  FareBin     418 non-null    category\n",
      "dtypes: category(2), float64(2), int32(1), int64(5), object(3)\n",
      "memory usage: 35.6+ KB\n"
     ]
    },
    {
     "data": {
      "text/plain": [
       "(   Survived  Pclass     Sex       Age  SibSp  Parch      Fare Embarked  \\\n",
       " 0         0       3    male  0.385769      0      0 -0.496818        Q   \n",
       " 1         1       3  female  1.369729      1      0 -0.511665        S   \n",
       " 2         0       2    male  2.550481      0      0 -0.463545        Q   \n",
       " 3         0       3    male -0.204607      0      0 -0.481898        S   \n",
       " 4         1       3  female -0.598191      1      1 -0.416992        S   \n",
       " \n",
       "    HasCabin  FamilySize Title  AgeBin FareBin  \n",
       " 0         0           1    Mr   Adult     Low  \n",
       " 1         0           2   Mrs   Adult     Low  \n",
       " 2         0           1    Mr  Senior  Medium  \n",
       " 3         0           1    Mr   Adult  Medium  \n",
       " 4         0           3   Mrs   Adult  Medium  ,\n",
       " None)"
      ]
     },
     "execution_count": 40,
     "metadata": {},
     "output_type": "execute_result"
    }
   ],
   "source": [
    "#Drop irrelevent column\n",
    "df.drop(columns=['Name', 'Ticket', 'PassengerId'], inplace=True)\n",
    "\n",
    "df.head(), df.info()"
   ]
  },
  {
   "cell_type": "code",
   "execution_count": 24,
   "id": "71ae0801-db9a-48a4-b481-7a6b2e169cf6",
   "metadata": {},
   "outputs": [],
   "source": [
    "df.to_csv('cleaned_tested.csv', index=False)"
   ]
  },
  {
   "cell_type": "code",
   "execution_count": 25,
   "id": "659c8bc1-ec57-4970-be20-d84828d6194a",
   "metadata": {},
   "outputs": [
    {
     "name": "stdout",
     "output_type": "stream",
     "text": [
      "C:\\Users\\Thols\n"
     ]
    }
   ],
   "source": [
    "import os\n",
    "print(os.getcwd())"
   ]
  },
  {
   "cell_type": "code",
   "execution_count": null,
   "id": "bdd2aa4f-72a2-4ccf-97d0-781ffcdc331a",
   "metadata": {},
   "outputs": [],
   "source": []
  }
 ],
 "metadata": {
  "kernelspec": {
   "display_name": "Python 3 (ipykernel)",
   "language": "python",
   "name": "python3"
  },
  "language_info": {
   "codemirror_mode": {
    "name": "ipython",
    "version": 3
   },
   "file_extension": ".py",
   "mimetype": "text/x-python",
   "name": "python",
   "nbconvert_exporter": "python",
   "pygments_lexer": "ipython3",
   "version": "3.12.4"
  }
 },
 "nbformat": 4,
 "nbformat_minor": 5
}
